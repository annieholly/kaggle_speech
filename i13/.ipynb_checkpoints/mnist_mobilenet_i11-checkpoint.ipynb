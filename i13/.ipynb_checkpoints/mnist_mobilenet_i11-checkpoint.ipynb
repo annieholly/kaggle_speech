{
 "cells": [
  {
   "cell_type": "code",
   "execution_count": 1,
   "metadata": {
    "collapsed": false
   },
   "outputs": [],
   "source": [
    "import numpy as np # linear algebra\n",
    "import pandas as pd # data processing, CSV file I/O (e.g. pd.read_csv)\n",
    "import math\n",
    "import glob\n",
    "import os\n",
    "\n",
    "from IPython import display\n",
    "from matplotlib import cm\n",
    "from matplotlib import gridspec\n",
    "from matplotlib import pyplot as plt\n",
    "%matplotlib inline \n",
    "\n",
    "import numpy as np\n",
    "import pandas as pd\n",
    "from sklearn import metrics\n",
    "from sklearn.metrics import confusion_matrix\n",
    "\n",
    "import tensorflow as tf\n",
    "from tensorflow.python.data import Dataset\n",
    "import tensorflow_hub as hub\n",
    "\n",
    "import seaborn as sns\n",
    "\n",
    "tf.logging.set_verbosity(tf.logging.ERROR)\n",
    "tf.logging.set_verbosity(tf.logging.INFO)\n",
    "pd.options.display.max_rows = 40\n",
    "pd.options.display.float_format = '{:.2f}'.format"
   ]
  },
  {
   "cell_type": "code",
   "execution_count": 2,
   "metadata": {
    "collapsed": true
   },
   "outputs": [],
   "source": [
    "mnist_data = pd.read_csv(\"./train.csv\", sep=\",\")"
   ]
  },
  {
   "cell_type": "code",
   "execution_count": 3,
   "metadata": {
    "collapsed": false
   },
   "outputs": [],
   "source": [
    "mnist_data = mnist_data.reindex(np.random.permutation(mnist_data.index))"
   ]
  },
  {
   "cell_type": "code",
   "execution_count": 4,
   "metadata": {
    "collapsed": true
   },
   "outputs": [],
   "source": [
    "mnist_np = np.asarray(mnist_data)\n",
    "#mnist_np = mnist_np[:1000] #sample of data\n",
    "len_train_data = int(len(mnist_np)*0.8)\n",
    "len_validation_data = int(len(mnist_np) - len_train_data)\n",
    "training_data = mnist_np[:len_train_data]\n",
    "validation_data = mnist_np[len_train_data:]\n",
    "training_examples = training_data[:, 1:].astype(np.float32)\n",
    "training_targets = training_data[:, :1]\n",
    "validation_examples = validation_data[:, 1:].astype(np.float32)\n",
    "validation_targets = validation_data[:, :1]"
   ]
  },
  {
   "cell_type": "code",
   "execution_count": 5,
   "metadata": {
    "collapsed": true
   },
   "outputs": [],
   "source": [
    "mnist_test = pd.read_csv(\"./test.csv\", sep=\",\")\n",
    "mnist_test['Label'] = 0"
   ]
  },
  {
   "cell_type": "code",
   "execution_count": 6,
   "metadata": {
    "collapsed": true
   },
   "outputs": [],
   "source": [
    "test_data = np.asarray(mnist_test)\n",
    "test_examples = test_data[:, :-1].astype(np.float32)\n",
    "test_targets =test_data[:, -1:]"
   ]
  },
  {
   "cell_type": "code",
   "execution_count": 9,
   "metadata": {
    "collapsed": false
   },
   "outputs": [
    {
     "name": "stdout",
     "output_type": "stream",
     "text": [
      "sanity check on dataset lengths\n",
      "-------------------------------\n",
      "train data: 33600\n",
      "validation data: 8400\n"
     ]
    }
   ],
   "source": [
    "print(\"sanity check on dataset lengths\")\n",
    "print(\"-------------------------------\")\n",
    "print(\"train data: %d\" % len_train_data)\n",
    "print(\"validation data: %d\" % len_validation_data)"
   ]
  },
  {
   "cell_type": "code",
   "execution_count": 10,
   "metadata": {
    "collapsed": true
   },
   "outputs": [],
   "source": [
    "def adjust_image(data):\n",
    "    print(\">> function call: adjust_image\")\n",
    "    print(\"data shape:\")\n",
    "    print(data.shape)\n",
    "    imgs = tf.reshape(data, [-1, 28, 28, 1]) #reshape to [batch, height, width, channels]\n",
    "    imgs = tf.image.resize_images(imgs, (96, 96))\n",
    "    imgs = tf.image.grayscale_to_rgb(imgs)\n",
    "    imgs = tf.Session().run(imgs)\n",
    "    print(type(imgs))\n",
    "    print(imgs.shape)\n",
    "    return imgs"
   ]
  },
  {
   "cell_type": "code",
   "execution_count": 11,
   "metadata": {
    "collapsed": false
   },
   "outputs": [
    {
     "name": "stdout",
     "output_type": "stream",
     "text": [
      ">> function call: adjust_image\n",
      "data shape:\n",
      "(33600, 784)\n",
      "<class 'numpy.ndarray'>\n",
      "(33600, 96, 96, 3)\n",
      "CPU times: user 2min 27s, sys: 9.22 s, total: 2min 36s\n",
      "Wall time: 2min 37s\n"
     ]
    }
   ],
   "source": [
    "%%time\n",
    "training_examples_adjusted = adjust_image(training_examples)"
   ]
  },
  {
   "cell_type": "code",
   "execution_count": 12,
   "metadata": {
    "collapsed": false
   },
   "outputs": [
    {
     "name": "stdout",
     "output_type": "stream",
     "text": [
      ">> function call: adjust_image\n",
      "data shape:\n",
      "(8400, 784)\n",
      "<class 'numpy.ndarray'>\n",
      "(8400, 96, 96, 3)\n",
      "CPU times: user 36.8 s, sys: 2.15 s, total: 38.9 s\n",
      "Wall time: 39 s\n"
     ]
    }
   ],
   "source": [
    "%%time\n",
    "validation_examples_adjusted = adjust_image(validation_examples)"
   ]
  },
  {
   "cell_type": "code",
   "execution_count": 13,
   "metadata": {
    "collapsed": false
   },
   "outputs": [
    {
     "name": "stdout",
     "output_type": "stream",
     "text": [
      ">> function call: adjust_image\n",
      "data shape:\n",
      "(28000, 784)\n",
      "<class 'numpy.ndarray'>\n",
      "(28000, 96, 96, 3)\n",
      "CPU times: user 2min 2s, sys: 7.14 s, total: 2min 9s\n",
      "Wall time: 2min 10s\n"
     ]
    }
   ],
   "source": [
    "%%time\n",
    "test_examples_adjusted = adjust_image(test_examples)"
   ]
  },
  {
   "cell_type": "markdown",
   "metadata": {
    "collapsed": true
   },
   "source": [
    "## Custom Model"
   ]
  },
  {
   "cell_type": "code",
   "execution_count": 14,
   "metadata": {
    "collapsed": true
   },
   "outputs": [],
   "source": [
    "def mobilenet_v2_35_model_fn(features, labels, mode, params):\n",
    "    module = hub.Module(\"https://tfhub.dev/google/imagenet/mobilenet_v2_035_96/feature_vector/1\")\n",
    "    input_layer = features[\"x\"]\n",
    "    outputs = module(input_layer)\n",
    "    print(\"outputs:\")\n",
    "    print(outputs.shape)\n",
    "\n",
    "    logits = tf.layers.dense(inputs=outputs, units=10)\n",
    "    print(\"flattened layer\")\n",
    "    print(logits.shape)\n",
    "    \n",
    "    predictions = {\n",
    "        # Generate predictions (for PREDICT and EVAL mode)\n",
    "        \"classes\": tf.argmax(input=logits, axis=1),\n",
    "        # Add `softmax_tensor` to the graph. It is used for PREDICT and by the `logging_hook`.\n",
    "        \"probabilities\": tf.nn.softmax(logits, name=\"softmax_tensor\")\n",
    "    }\n",
    "    print(\"predictions generated\")\n",
    "\n",
    "    if mode == tf.estimator.ModeKeys.PREDICT:\n",
    "        return tf.estimator.EstimatorSpec(mode=mode, predictions=predictions)\n",
    "\n",
    "    print(\"Calculate Loss (for both TRAIN and EVAL modes)\")\n",
    "    print(labels.shape)\n",
    "    loss = tf.losses.sparse_softmax_cross_entropy(labels=labels, logits=logits)\n",
    "    print(\"Loss calculated.\")\n",
    "\n",
    "    # Configure the Training Op (for TRAIN mode)\n",
    "    if mode == tf.estimator.ModeKeys.TRAIN:\n",
    "        optimizer = tf.train.GradientDescentOptimizer(learning_rate=params['learning_rate'])\n",
    "        optimizer = tf.contrib.estimator.clip_gradients_by_norm(optimizer, 5.0)\n",
    "        print(\"minimizing loss\")\n",
    "        train_op = optimizer.minimize(\n",
    "            loss=loss,\n",
    "            global_step=tf.train.get_global_step())\n",
    "        return tf.estimator.EstimatorSpec(mode=mode, loss=loss, train_op=train_op)\n",
    "\n",
    "    # Add evaluation metrics (for EVAL mode)\n",
    "    eval_metric_ops = {\"accuracy\": tf.metrics.accuracy(labels=labels, predictions=predictions[\"classes\"])}\n",
    "    \n",
    "    return tf.estimator.EstimatorSpec(mode=mode, loss=loss, eval_metric_ops=eval_metric_ops)"
   ]
  },
  {
   "cell_type": "code",
   "execution_count": null,
   "metadata": {
    "collapsed": false
   },
   "outputs": [],
   "source": [
    "# Set up logging for predictions\n",
    "tensors_to_log = {\"probabilities\": \"softmax_tensor\"}\n",
    "logging_hook = tf.train.LoggingTensorHook(\n",
    "  tensors=tensors_to_log, every_n_iter=50)"
   ]
  },
  {
   "cell_type": "markdown",
   "metadata": {},
   "source": [
    "## Train"
   ]
  },
  {
   "cell_type": "code",
   "execution_count": 15,
   "metadata": {
    "collapsed": true
   },
   "outputs": [],
   "source": [
    "def create_train_input_fn(data, targets, batch_size, num_epochs=None, shuffle=True):\n",
    "    input_fn = tf.estimator.inputs.numpy_input_fn(\n",
    "            x={\"x\": data},\n",
    "            y=targets,\n",
    "            batch_size=batch_size,\n",
    "            num_epochs=None,\n",
    "            shuffle=True)\n",
    "    return input_fn"
   ]
  },
  {
   "cell_type": "code",
   "execution_count": 16,
   "metadata": {
    "collapsed": true
   },
   "outputs": [],
   "source": [
    "def create_predict_input_fn(data, targets, batch_size):\n",
    "    input_fn = tf.estimator.inputs.numpy_input_fn(\n",
    "        x={\"x\": data},\n",
    "        y=targets,\n",
    "        num_epochs=1,\n",
    "        shuffle=False)\n",
    "    return input_fn"
   ]
  },
  {
   "cell_type": "code",
   "execution_count": 17,
   "metadata": {
    "collapsed": false
   },
   "outputs": [],
   "source": [
    "def train_mobilenet_model(learning_rate, steps, batch_size,\n",
    "                    training_examples, training_targets, \n",
    "                    validation_examples, validation_targets):\n",
    "    periods = 10\n",
    "    steps_per_period = steps // periods \n",
    "    \n",
    "    train_input_fn = create_train_input_fn(training_examples, training_targets, batch_size)\n",
    "    train_predictions_fn = create_predict_input_fn(training_examples, training_targets, batch_size)\n",
    "    validation_predictions_fn = create_predict_input_fn(validation_examples, validation_targets, batch_size)\n",
    "    \n",
    "    classifier = tf.estimator.Estimator(\n",
    "        model_fn=mobilenet_v2_35_model_fn,\n",
    "        model_dir=\"./mobilenet_model_001_fn\",\n",
    "        params={\n",
    "            'learning_rate': learning_rate, \n",
    "        })\n",
    "\n",
    "    print(\"Training model...\")\n",
    "    print(\"LogLoss error (on validation data):\")\n",
    "    training_errors = []\n",
    "    validation_errors = []\n",
    "    train_accuracy_log = []\n",
    "    validation_accuracy_log = []\n",
    "    for period in range (0, periods):\n",
    "        #print(\"period %d\" % period)\n",
    "        classifier.train(\n",
    "            input_fn=train_input_fn,\n",
    "            steps=steps_per_period,\n",
    "            #hooks=[logging_hook]\n",
    "        )\n",
    "        \n",
    "        print(\"making training predictions\")\n",
    "        training_predictions = classifier.predict(input_fn=train_predictions_fn)\n",
    "        training_predictions_list = list(training_predictions)\n",
    "        #print(\"pulling out probabilities\")\n",
    "        training_probabilities = np.array([item['probabilities'] for item in training_predictions_list])\n",
    "        training_pred_class_id = np.array([item['classes'] for item in training_predictions_list])\n",
    "        training_pred_one_hot = tf.keras.utils.to_categorical(training_pred_class_id,10)\n",
    "\n",
    "        print(\"making validation predictions\")\n",
    "        validation_predictions = classifier.predict(input_fn=validation_predictions_fn)\n",
    "        validation_predictions_list = list(validation_predictions)\n",
    "        #print(\"pulling out probabilities\")\n",
    "        validation_probabilities = np.array([item['probabilities'] for item in validation_predictions_list])    \n",
    "        validation_pred_class_id = np.array([item['classes'] for item in validation_predictions_list])\n",
    "        validation_pred_one_hot = tf.keras.utils.to_categorical(validation_pred_class_id,10)    \n",
    "\n",
    "        training_log_loss = metrics.log_loss(training_targets, training_pred_one_hot)\n",
    "        validation_log_loss = metrics.log_loss(validation_targets, validation_pred_one_hot)\n",
    "        \n",
    "        train_accuracy = metrics.accuracy_score(training_targets, training_pred_class_id)\n",
    "        validation_accuracy = metrics.accuracy_score(validation_targets, validation_pred_class_id)\n",
    "        print(\"  period %02d : %0.2f, %0.2f\" % (period, validation_log_loss, validation_accuracy))\n",
    "        \n",
    "        train_accuracy_log.append(train_accuracy)\n",
    "        validation_accuracy_log.append(validation_accuracy)\n",
    "        training_errors.append(training_log_loss)\n",
    "        validation_errors.append(validation_log_loss)\n",
    "    print(\"Model training finished.\")\n",
    "\n",
    "    _ = map(os.remove, glob.glob(os.path.join(classifier.model_dir, 'events.out.tfevents*')))\n",
    "\n",
    "    final_predictions = classifier.predict(input_fn=validation_predictions_fn)\n",
    "    final_predictions = np.array([item['classes'] for item in final_predictions])\n",
    "\n",
    "    accuracy = metrics.accuracy_score(validation_targets, final_predictions)\n",
    "    print(\"Final accuracy (on validation data): %0.2f\" % accuracy)\n",
    "\n",
    "    plt.ylabel(\"LogLoss\")\n",
    "    plt.xlabel(\"Periods\")\n",
    "    plt.title(\"LogLoss vs. Periods\")\n",
    "    plt.plot(training_errors, label=\"training\")\n",
    "    plt.plot(validation_errors, label=\"validation\")\n",
    "    plt.legend()\n",
    "    plt.show()\n",
    "    \n",
    "    plt.ylabel(\"Accuracy\")\n",
    "    plt.xlabel(\"Periods\")\n",
    "    plt.title(\"Accuracy vs. Periods\")\n",
    "    plt.plot(train_accuracy_log, label=\"accuracy\")\n",
    "    plt.plot(validation_accuracy_log, label=\"accuracy\")\n",
    "    plt.legend()\n",
    "    plt.show()\n",
    "\n",
    "    # Output a plot of the confusion matrix.\n",
    "    cm = metrics.confusion_matrix(validation_targets, final_predictions)\n",
    "    # Normalize the confusion matrix by row (i.e by the number of samples in each class).\n",
    "    cm_normalized = cm.astype(\"float\") // cm.sum(axis=1)[:, np.newaxis]\n",
    "    ax = sns.heatmap(cm_normalized, cmap=\"bone_r\")\n",
    "    ax.set_aspect(1)\n",
    "    plt.title(\"Confusion matrix\")\n",
    "    plt.ylabel(\"True label\")\n",
    "    plt.xlabel(\"Predicted label\")\n",
    "    plt.show()\n",
    "\n",
    "    return classifier"
   ]
  },
  {
   "cell_type": "code",
   "execution_count": 18,
   "metadata": {
    "collapsed": false
   },
   "outputs": [
    {
     "name": "stdout",
     "output_type": "stream",
     "text": [
      "Training model...\n",
      "LogLoss error (on validation data):\n",
      "outputs:\n",
      "(100, 1280)\n",
      "flattened layer\n",
      "(100, 10)\n",
      "predictions generated\n",
      "Calculate Loss (for both TRAIN and EVAL modes)\n",
      "(100, 1)\n",
      "Loss calculated.\n",
      "minimizing loss\n",
      "making training predictions\n",
      "outputs:\n",
      "(?, 1280)\n",
      "flattened layer\n",
      "(?, 10)\n",
      "predictions generated\n",
      "making validation predictions\n",
      "outputs:\n",
      "(?, 1280)\n",
      "flattened layer\n",
      "(?, 10)\n",
      "predictions generated\n",
      "  period 00 : 4.37, 0.87\n",
      "outputs:\n",
      "(100, 1280)\n",
      "flattened layer\n",
      "(100, 10)\n",
      "predictions generated\n",
      "Calculate Loss (for both TRAIN and EVAL modes)\n",
      "(100, 1)\n",
      "Loss calculated.\n",
      "minimizing loss\n",
      "making training predictions\n",
      "outputs:\n",
      "(?, 1280)\n",
      "flattened layer\n",
      "(?, 10)\n",
      "predictions generated\n",
      "making validation predictions\n",
      "outputs:\n",
      "(?, 1280)\n",
      "flattened layer\n",
      "(?, 10)\n",
      "predictions generated\n",
      "  period 01 : 3.74, 0.89\n",
      "outputs:\n",
      "(100, 1280)\n",
      "flattened layer\n",
      "(100, 10)\n",
      "predictions generated\n",
      "Calculate Loss (for both TRAIN and EVAL modes)\n",
      "(100, 1)\n",
      "Loss calculated.\n",
      "minimizing loss\n",
      "making training predictions\n",
      "outputs:\n",
      "(?, 1280)\n",
      "flattened layer\n",
      "(?, 10)\n",
      "predictions generated\n",
      "making validation predictions\n",
      "outputs:\n",
      "(?, 1280)\n",
      "flattened layer\n",
      "(?, 10)\n",
      "predictions generated\n",
      "  period 02 : 3.24, 0.91\n",
      "outputs:\n",
      "(100, 1280)\n",
      "flattened layer\n",
      "(100, 10)\n",
      "predictions generated\n",
      "Calculate Loss (for both TRAIN and EVAL modes)\n",
      "(100, 1)\n",
      "Loss calculated.\n",
      "minimizing loss\n",
      "making training predictions\n",
      "outputs:\n",
      "(?, 1280)\n",
      "flattened layer\n",
      "(?, 10)\n",
      "predictions generated\n",
      "making validation predictions\n",
      "outputs:\n",
      "(?, 1280)\n",
      "flattened layer\n",
      "(?, 10)\n",
      "predictions generated\n",
      "  period 03 : 3.13, 0.91\n",
      "outputs:\n",
      "(100, 1280)\n",
      "flattened layer\n",
      "(100, 10)\n",
      "predictions generated\n",
      "Calculate Loss (for both TRAIN and EVAL modes)\n",
      "(100, 1)\n",
      "Loss calculated.\n",
      "minimizing loss\n",
      "making training predictions\n",
      "outputs:\n",
      "(?, 1280)\n",
      "flattened layer\n",
      "(?, 10)\n",
      "predictions generated\n",
      "making validation predictions\n",
      "outputs:\n",
      "(?, 1280)\n",
      "flattened layer\n",
      "(?, 10)\n",
      "predictions generated\n",
      "  period 04 : 3.06, 0.91\n",
      "outputs:\n",
      "(100, 1280)\n",
      "flattened layer\n",
      "(100, 10)\n",
      "predictions generated\n",
      "Calculate Loss (for both TRAIN and EVAL modes)\n",
      "(100, 1)\n",
      "Loss calculated.\n",
      "minimizing loss\n",
      "making training predictions\n",
      "outputs:\n",
      "(?, 1280)\n",
      "flattened layer\n",
      "(?, 10)\n",
      "predictions generated\n",
      "making validation predictions\n",
      "outputs:\n",
      "(?, 1280)\n",
      "flattened layer\n",
      "(?, 10)\n",
      "predictions generated\n",
      "  period 05 : 2.77, 0.92\n",
      "outputs:\n",
      "(100, 1280)\n",
      "flattened layer\n",
      "(100, 10)\n",
      "predictions generated\n",
      "Calculate Loss (for both TRAIN and EVAL modes)\n",
      "(100, 1)\n",
      "Loss calculated.\n",
      "minimizing loss\n",
      "making training predictions\n",
      "outputs:\n",
      "(?, 1280)\n",
      "flattened layer\n",
      "(?, 10)\n",
      "predictions generated\n",
      "making validation predictions\n",
      "outputs:\n",
      "(?, 1280)\n",
      "flattened layer\n",
      "(?, 10)\n",
      "predictions generated\n",
      "  period 06 : 2.70, 0.92\n",
      "outputs:\n",
      "(100, 1280)\n",
      "flattened layer\n",
      "(100, 10)\n",
      "predictions generated\n",
      "Calculate Loss (for both TRAIN and EVAL modes)\n",
      "(100, 1)\n",
      "Loss calculated.\n",
      "minimizing loss\n",
      "making training predictions\n",
      "outputs:\n",
      "(?, 1280)\n",
      "flattened layer\n",
      "(?, 10)\n",
      "predictions generated\n",
      "making validation predictions\n",
      "outputs:\n",
      "(?, 1280)\n",
      "flattened layer\n",
      "(?, 10)\n",
      "predictions generated\n",
      "  period 07 : 2.71, 0.92\n",
      "outputs:\n",
      "(100, 1280)\n",
      "flattened layer\n",
      "(100, 10)\n",
      "predictions generated\n",
      "Calculate Loss (for both TRAIN and EVAL modes)\n",
      "(100, 1)\n",
      "Loss calculated.\n",
      "minimizing loss\n",
      "making training predictions\n",
      "outputs:\n",
      "(?, 1280)\n",
      "flattened layer\n",
      "(?, 10)\n",
      "predictions generated\n",
      "making validation predictions\n",
      "outputs:\n",
      "(?, 1280)\n",
      "flattened layer\n",
      "(?, 10)\n",
      "predictions generated\n",
      "  period 08 : 2.56, 0.93\n",
      "outputs:\n",
      "(100, 1280)\n",
      "flattened layer\n",
      "(100, 10)\n",
      "predictions generated\n",
      "Calculate Loss (for both TRAIN and EVAL modes)\n",
      "(100, 1)\n",
      "Loss calculated.\n",
      "minimizing loss\n",
      "making training predictions\n",
      "outputs:\n",
      "(?, 1280)\n",
      "flattened layer\n",
      "(?, 10)\n",
      "predictions generated\n",
      "making validation predictions\n",
      "outputs:\n",
      "(?, 1280)\n",
      "flattened layer\n",
      "(?, 10)\n",
      "predictions generated\n",
      "  period 09 : 2.50, 0.93\n",
      "Model training finished.\n",
      "outputs:\n",
      "(?, 1280)\n",
      "flattened layer\n",
      "(?, 10)\n",
      "predictions generated\n",
      "Final accuracy (on validation data): 0.93\n"
     ]
    },
    {
     "data": {
      "image/png": "[encoded data removed]",
      "text/plain": [
       "<matplotlib.figure.Figure at 0x7f0d2cb26a20>"
      ]
     },
     "metadata": {},
     "output_type": "display_data"
    },
    {
     "data": {
      "image/png": "[encoded data removed]",
      "text/plain": [
       "<matplotlib.figure.Figure at 0x7f0d2a972f28>"
      ]
     },
     "metadata": {},
     "output_type": "display_data"
    },
    {
     "data": {
      "image/png": "[encoded data removed]",
      "text/plain": [
       "<matplotlib.figure.Figure at 0x7f0d29ecb6a0>"
      ]
     },
     "metadata": {},
     "output_type": "display_data"
    },
    {
     "name": "stdout",
     "output_type": "stream",
     "text": [
      "CPU times: user 3h 17min 19s, sys: 3.69 s, total: 3h 17min 23s\n",
      "Wall time: 3h 17min 42s\n"
     ]
    }
   ],
   "source": [
    "%%time\n",
    "mobilenet_trained_model = train_mobilenet_model(\n",
    "    learning_rate = 0.03,\n",
    "    steps=1000,\n",
    "    batch_size=100,\n",
    "    training_examples=training_examples_adjusted,\n",
    "    training_targets=training_targets,\n",
    "    validation_examples=validation_examples_adjusted,\n",
    "    validation_targets=validation_targets) "
   ]
  },
  {
   "cell_type": "markdown",
   "metadata": {},
   "source": [
    "## Evaluate"
   ]
  },
  {
   "cell_type": "code",
   "execution_count": 19,
   "metadata": {
    "collapsed": true
   },
   "outputs": [],
   "source": [
    "eval_input_fn = create_predict_input_fn(test_examples_adjusted, test_targets, batch_size=1)"
   ]
  },
  {
   "cell_type": "code",
   "execution_count": 20,
   "metadata": {
    "collapsed": false
   },
   "outputs": [
    {
     "name": "stdout",
     "output_type": "stream",
     "text": [
      "CPU times: user 17 µs, sys: 0 ns, total: 17 µs\n",
      "Wall time: 21.5 µs\n"
     ]
    }
   ],
   "source": [
    "%%time\n",
    "test_predictions = mobilenet_trained_model.predict(input_fn=eval_input_fn)"
   ]
  },
  {
   "cell_type": "code",
   "execution_count": 21,
   "metadata": {
    "collapsed": false
   },
   "outputs": [
    {
     "name": "stdout",
     "output_type": "stream",
     "text": [
      "outputs:\n",
      "(?, 1280)\n",
      "flattened layer\n",
      "(?, 10)\n",
      "predictions generated\n",
      "CPU times: user 10min 17s, sys: 148 ms, total: 10min 17s\n",
      "Wall time: 10min 18s\n"
     ]
    }
   ],
   "source": [
    "%%time\n",
    "mnist_test['Label'] = np.array([item['classes'] for item in test_predictions])"
   ]
  },
  {
   "cell_type": "code",
   "execution_count": 22,
   "metadata": {
    "collapsed": true
   },
   "outputs": [],
   "source": [
    "mnist_test.index += 1\n",
    "mnist_test.index.name='ImageId'"
   ]
  },
  {
   "cell_type": "code",
   "execution_count": 23,
   "metadata": {
    "collapsed": true
   },
   "outputs": [],
   "source": [
    "mnist_test['Label'].to_csv(\"mnist_mobilenet.csv\", header=True)"
   ]
  }
 ],
 "metadata": {
  "kernelspec": {
   "display_name": "Python 3",
   "language": "python",
   "name": "python3"
  },
  "language_info": {
   "codemirror_mode": {
    "name": "ipython",
    "version": 3
   },
   "file_extension": ".py",
   "mimetype": "text/x-python",
   "name": "python",
   "nbconvert_exporter": "python",
   "pygments_lexer": "ipython3",
   "version": "3.5.1"
  }
 },
 "nbformat": 4,
 "nbformat_minor": 0
}
