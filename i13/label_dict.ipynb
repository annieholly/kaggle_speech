{
 "cells": [
  {
   "cell_type": "code",
   "execution_count": 1,
   "metadata": {
    "collapsed": true
   },
   "outputs": [],
   "source": [
    "from IPython import display\n",
    "\n",
    "# File Processing\n",
    "import glob\n",
    "import os\n",
    "from os.path import isdir, join\n",
    "from pathlib import Path\n",
    "\n",
    "# Math\n",
    "import numpy as np # linear algebra\n",
    "import pandas as pd # data processing, CSV file I/O (e.g. pd.read_csv)\n",
    "import math\n",
    "from scipy import signal\n",
    "from scipy.io import wavfile\n",
    "\n",
    "# Data Plotting and Visualizations\n",
    "from PIL import Image\n",
    "from matplotlib import cm\n",
    "from matplotlib import gridspec\n",
    "from matplotlib import pyplot as plt\n",
    "%matplotlib inline \n",
    "import seaborn as sns\n",
    "\n",
    "# Sklearn Metrics\n",
    "from sklearn import metrics\n",
    "from sklearn.metrics import confusion_matrix\n",
    "\n",
    "# Tensorflow\n",
    "import tensorflow as tf\n",
    "from tensorflow.python.data import Dataset\n",
    "import tensorflow_hub as hub\n",
    "\n",
    "tf.logging.set_verbosity(tf.logging.ERROR)\n",
    "tf.logging.set_verbosity(tf.logging.INFO)\n",
    "pd.options.display.max_rows = 40\n",
    "pd.options.display.float_format = '{:.2f}'.format"
   ]
  },
  {
   "cell_type": "code",
   "execution_count": 2,
   "metadata": {
    "collapsed": true
   },
   "outputs": [],
   "source": [
    "train_audio_folder = './train/audio/'\n",
    "train_spect_folder = './train/spect/'"
   ]
  },
  {
   "cell_type": "code",
   "execution_count": 3,
   "metadata": {
    "collapsed": true
   },
   "outputs": [],
   "source": [
    "subfolder_names_list = [x for x in os.listdir(train_audio_folder) if os.path.isdir(train_audio_folder + '/' + x)]"
   ]
  },
  {
   "cell_type": "code",
   "execution_count": 4,
   "metadata": {
    "collapsed": false
   },
   "outputs": [
    {
     "data": {
      "text/plain": [
       "['zero',\n",
       " 'six',\n",
       " 'happy',\n",
       " 'on',\n",
       " 'left',\n",
       " 'one',\n",
       " 'no',\n",
       " 'go',\n",
       " '_background_noise_',\n",
       " 'off',\n",
       " 'tree',\n",
       " 'bed',\n",
       " 'cat',\n",
       " 'up',\n",
       " 'eight',\n",
       " 'marvin',\n",
       " 'stop',\n",
       " 'yes',\n",
       " 'three',\n",
       " 'down',\n",
       " 'nine',\n",
       " 'four',\n",
       " 'seven',\n",
       " 'sheila',\n",
       " 'dog',\n",
       " 'right',\n",
       " 'two',\n",
       " 'wow',\n",
       " 'house',\n",
       " 'bird',\n",
       " 'five']"
      ]
     },
     "execution_count": 4,
     "metadata": {},
     "output_type": "execute_result"
    }
   ],
   "source": [
    "subfolder_names_list"
   ]
  },
  {
   "cell_type": "code",
   "execution_count": 5,
   "metadata": {
    "collapsed": false
   },
   "outputs": [
    {
     "data": {
      "text/plain": [
       "31"
      ]
     },
     "execution_count": 5,
     "metadata": {},
     "output_type": "execute_result"
    }
   ],
   "source": [
    "len(subfolder_names_list)"
   ]
  },
  {
   "cell_type": "code",
   "execution_count": 13,
   "metadata": {
    "collapsed": false
   },
   "outputs": [],
   "source": [
    "int_labels = list(range(0, len(subfolder_names_list)))"
   ]
  },
  {
   "cell_type": "code",
   "execution_count": 16,
   "metadata": {
    "collapsed": true
   },
   "outputs": [],
   "source": [
    "labels = dict(zip(int_labels, subfolder_names_list))"
   ]
  },
  {
   "cell_type": "code",
   "execution_count": 17,
   "metadata": {
    "collapsed": false
   },
   "outputs": [
    {
     "data": {
      "text/plain": [
       "{0: 'zero',\n",
       " 1: 'six',\n",
       " 2: 'happy',\n",
       " 3: 'on',\n",
       " 4: 'left',\n",
       " 5: 'one',\n",
       " 6: 'no',\n",
       " 7: 'go',\n",
       " 8: '_background_noise_',\n",
       " 9: 'off',\n",
       " 10: 'tree',\n",
       " 11: 'bed',\n",
       " 12: 'cat',\n",
       " 13: 'up',\n",
       " 14: 'eight',\n",
       " 15: 'marvin',\n",
       " 16: 'stop',\n",
       " 17: 'yes',\n",
       " 18: 'three',\n",
       " 19: 'down',\n",
       " 20: 'nine',\n",
       " 21: 'four',\n",
       " 22: 'seven',\n",
       " 23: 'sheila',\n",
       " 24: 'dog',\n",
       " 25: 'right',\n",
       " 26: 'two',\n",
       " 27: 'wow',\n",
       " 28: 'house',\n",
       " 29: 'bird',\n",
       " 30: 'five'}"
      ]
     },
     "execution_count": 17,
     "metadata": {},
     "output_type": "execute_result"
    }
   ],
   "source": [
    "labels"
   ]
  },
  {
   "cell_type": "code",
   "execution_count": 18,
   "metadata": {
    "collapsed": false
   },
   "outputs": [
    {
     "data": {
      "text/plain": [
       "'zero'"
      ]
     },
     "execution_count": 18,
     "metadata": {},
     "output_type": "execute_result"
    }
   ],
   "source": [
    "labels[0]"
   ]
  },
  {
   "cell_type": "code",
   "execution_count": null,
   "metadata": {
    "collapsed": true
   },
   "outputs": [],
   "source": []
  }
 ],
 "metadata": {
  "kernelspec": {
   "display_name": "Python 3",
   "language": "python",
   "name": "python3"
  },
  "language_info": {
   "codemirror_mode": {
    "name": "ipython",
    "version": 3
   },
   "file_extension": ".py",
   "mimetype": "text/x-python",
   "name": "python",
   "nbconvert_exporter": "python",
   "pygments_lexer": "ipython3",
   "version": "3.5.1"
  }
 },
 "nbformat": 4,
 "nbformat_minor": 0
}
